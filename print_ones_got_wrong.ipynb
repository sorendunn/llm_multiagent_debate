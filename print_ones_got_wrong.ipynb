{
 "cells": [
  {
   "cell_type": "code",
   "execution_count": 1,
   "metadata": {},
   "outputs": [],
   "source": [
    "import json\n",
    "import re\n",
    "\n",
    "filename = \"mmlu_4_test.json\"\n",
    "output_filename = \"incorrect_answers.md\"\n",
    "\n",
    "def convert_json_to_markdown(filename, output_filename):\n",
    "    with open(filename, 'r') as f:\n",
    "        data = json.load(f)\n",
    "    \n",
    "    markdown_output = \"\"\n",
    "\n",
    "    for question, content in data.items():\n",
    "        answers, correct_answer = content\n",
    "        last_answer_given = re.search('\\(([A-D])\\)', answers[-1]['content'])\n",
    "        \n",
    "        if last_answer_given:\n",
    "            last_answer_given = last_answer_given.group(1)\n",
    "            \n",
    "            if last_answer_given != correct_answer:\n",
    "                markdown_output += f\"## {question}\\n\\n\"\n",
    "                for idx, answer in enumerate(answers):\n",
    "                    markdown_output += f\"### Response {idx+1}\\n\\n\"\n",
    "                    markdown_output += f\"Role: {answer['role']}\\n\\n\"\n",
    "                    markdown_output += f\"{answer['content']}\\n\\n\"\n",
    "                markdown_output += f\"### Correct answer: {correct_answer}\\n\\n\"\n",
    "                markdown_output += \"---\\n\\n\"\n",
    "    \n",
    "    with open(output_filename, \"w\", encoding='utf-8') as f:\n",
    "        f.write(markdown_output)\n",
    "\n",
    "convert_json_to_markdown(filename, output_filename)\n"
   ]
  }
 ],
 "metadata": {
  "kernelspec": {
   "display_name": "Python 3",
   "language": "python",
   "name": "python3"
  },
  "language_info": {
   "codemirror_mode": {
    "name": "ipython",
    "version": 3
   },
   "file_extension": ".py",
   "mimetype": "text/x-python",
   "name": "python",
   "nbconvert_exporter": "python",
   "pygments_lexer": "ipython3",
   "version": "3.10.7"
  },
  "orig_nbformat": 4
 },
 "nbformat": 4,
 "nbformat_minor": 2
}
